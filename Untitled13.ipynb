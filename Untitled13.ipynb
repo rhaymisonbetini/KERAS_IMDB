{
  "nbformat": 4,
  "nbformat_minor": 0,
  "metadata": {
    "colab": {
      "provenance": [],
      "machine_shape": "hm",
      "gpuType": "T4",
      "authorship_tag": "ABX9TyNBGMfleYQ/2QijaXbLxNHK",
      "include_colab_link": true
    },
    "kernelspec": {
      "name": "python3",
      "display_name": "Python 3"
    },
    "language_info": {
      "name": "python"
    },
    "accelerator": "GPU"
  },
  "cells": [
    {
      "cell_type": "markdown",
      "metadata": {
        "id": "view-in-github",
        "colab_type": "text"
      },
      "source": [
        "<a href=\"https://colab.research.google.com/github/rhaymisonbetini/KERAS_IMDB/blob/main/Untitled13.ipynb\" target=\"_parent\"><img src=\"https://colab.research.google.com/assets/colab-badge.svg\" alt=\"Open In Colab\"/></a>"
      ]
    },
    {
      "cell_type": "code",
      "source": [
        "import tensorflow as tf\n",
        "import numpy as np\n",
        "from tensorflow.keras.datasets import imdb\n",
        "number_of_words = 20000\n",
        "max_len = 100\n",
        "(X_train, y_train), (X_test, y_test) = imdb.load_data(num_words=number_of_words)\n",
        "X_train = tf.keras.preprocessing.sequence.pad_sequences(X_train, maxlen=max_len)\n",
        "X_test = tf.keras.preprocessing.sequence.pad_sequences(X_test, maxlen=max_len)\n",
        "\n",
        "model = tf.keras.Sequential()\n",
        "model.add(tf.keras.layers.Embedding(input_dim=number_of_words, output_dim=128, input_shape=(X_train.shape[1],)))\n",
        "model.add(tf.keras.layers.LSTM(units=128, activation='tanh'))\n",
        "model.add(tf.keras.layers.Dense(units=1, activation='sigmoid'))\n",
        "model.compile(optimizer='rmsprop', loss='binary_crossentropy', metrics=['accuracy'])\n",
        "model.summary()"
      ],
      "metadata": {
        "colab": {
          "base_uri": "https://localhost:8080/"
        },
        "id": "fpAlcNjxv4L-",
        "outputId": "289789d1-17ee-4595-cca6-778ff350258e"
      },
      "execution_count": 218,
      "outputs": [
        {
          "output_type": "stream",
          "name": "stdout",
          "text": [
            "Model: \"sequential_22\"\n",
            "_________________________________________________________________\n",
            " Layer (type)                Output Shape              Param #   \n",
            "=================================================================\n",
            " embedding_22 (Embedding)    (None, 100, 128)          2560000   \n",
            "                                                                 \n",
            " lstm_30 (LSTM)              (None, 128)               131584    \n",
            "                                                                 \n",
            " dense_20 (Dense)            (None, 1)                 129       \n",
            "                                                                 \n",
            "=================================================================\n",
            "Total params: 2691713 (10.27 MB)\n",
            "Trainable params: 2691713 (10.27 MB)\n",
            "Non-trainable params: 0 (0.00 Byte)\n",
            "_________________________________________________________________\n"
          ]
        }
      ]
    },
    {
      "cell_type": "code",
      "source": [
        "model.fit(X_train, y_train, epochs=10, batch_size=128, validation_data=(X_test, y_test))"
      ],
      "metadata": {
        "colab": {
          "base_uri": "https://localhost:8080/"
        },
        "id": "8UL1jaFh1LKd",
        "outputId": "19df2d7f-329e-47bb-8c69-519c87870498"
      },
      "execution_count": 219,
      "outputs": [
        {
          "output_type": "stream",
          "name": "stdout",
          "text": [
            "Epoch 1/10\n",
            "196/196 [==============================] - 13s 58ms/step - loss: 0.5389 - accuracy: 0.7158 - val_loss: 0.3916 - val_accuracy: 0.8258\n",
            "Epoch 2/10\n",
            "196/196 [==============================] - 6s 30ms/step - loss: 0.3491 - accuracy: 0.8536 - val_loss: 0.4379 - val_accuracy: 0.8187\n",
            "Epoch 3/10\n",
            "196/196 [==============================] - 4s 22ms/step - loss: 0.2850 - accuracy: 0.8855 - val_loss: 0.3798 - val_accuracy: 0.8423\n",
            "Epoch 4/10\n",
            "196/196 [==============================] - 3s 16ms/step - loss: 0.2456 - accuracy: 0.9069 - val_loss: 0.3452 - val_accuracy: 0.8521\n",
            "Epoch 5/10\n",
            "196/196 [==============================] - 4s 18ms/step - loss: 0.2091 - accuracy: 0.9212 - val_loss: 0.3815 - val_accuracy: 0.8295\n",
            "Epoch 6/10\n",
            "196/196 [==============================] - 3s 17ms/step - loss: 0.1834 - accuracy: 0.9344 - val_loss: 0.4531 - val_accuracy: 0.8372\n",
            "Epoch 7/10\n",
            "196/196 [==============================] - 3s 16ms/step - loss: 0.1583 - accuracy: 0.9436 - val_loss: 0.3837 - val_accuracy: 0.8432\n",
            "Epoch 8/10\n",
            "196/196 [==============================] - 3s 16ms/step - loss: 0.1325 - accuracy: 0.9540 - val_loss: 0.4313 - val_accuracy: 0.8272\n",
            "Epoch 9/10\n",
            "196/196 [==============================] - 3s 14ms/step - loss: 0.1132 - accuracy: 0.9612 - val_loss: 0.4909 - val_accuracy: 0.8391\n",
            "Epoch 10/10\n",
            "196/196 [==============================] - 3s 14ms/step - loss: 0.0944 - accuracy: 0.9680 - val_loss: 0.4814 - val_accuracy: 0.8231\n"
          ]
        },
        {
          "output_type": "execute_result",
          "data": {
            "text/plain": [
              "<keras.src.callbacks.History at 0x78d576b81900>"
            ]
          },
          "metadata": {},
          "execution_count": 219
        }
      ]
    },
    {
      "cell_type": "code",
      "source": [
        "from tensorflow.keras.datasets import imdb\n",
        "from tensorflow.keras.preprocessing.text import Tokenizer\n",
        "word_index = imdb.get_word_index()\n",
        "index_word = {i: word for word, i in word_index.items()}\n",
        "tokenizer = Tokenizer(num_words=20000)\n",
        "tokenizer.word_index = word_index\n"
      ],
      "metadata": {
        "id": "nRAOuew32kcs"
      },
      "execution_count": 220,
      "outputs": []
    },
    {
      "cell_type": "code",
      "source": [
        "from tensorflow.keras.preprocessing.sequence import pad_sequences\n",
        "\n",
        "prediction = \"I wouldn't see it again.\"\n",
        "\n",
        "sequences = tokenizer.texts_to_sequences([prediction])\n",
        "\n",
        "processes_text = pad_sequences(sequences, maxlen=100)\n",
        "\n",
        "previsao = model.predict(processes_text)\n",
        "print(\"Previsão:\", previsao[0][0])\n",
        "if previsao[0][0] > 0.5:\n",
        "    print(\"Positivo\")\n",
        "else:\n",
        "    print(\"Negativo\")\n",
        "\n"
      ],
      "metadata": {
        "colab": {
          "base_uri": "https://localhost:8080/"
        },
        "id": "-EVFCdkvOtXK",
        "outputId": "7fd30263-88f0-47b2-a9a5-6a5d0673a68a"
      },
      "execution_count": 233,
      "outputs": [
        {
          "output_type": "stream",
          "name": "stdout",
          "text": [
            "1/1 [==============================] - 0s 19ms/step\n",
            "Previsão: 0.06141339\n",
            "Negativo\n"
          ]
        }
      ]
    }
  ]
}